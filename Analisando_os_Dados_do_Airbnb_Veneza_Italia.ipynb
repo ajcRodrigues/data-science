{
  "cells": [
    {
      "attachments": {},
      "cell_type": "markdown",
      "metadata": {
        "id": "kLI0gJtzDGuQ"
      },
      "source": [
        "<img alt=\"Colaboratory logo\" width=\"15%\" src=\"https://raw.githubusercontent.com/carlosfab/escola-data-science/master/img/novo_logo_bg_claro.png\">\n",
        "\n",
        "#### **Data Science na Prática 3.0**\n",
        "*by [sigmoidal.ai](https://sigmoidal.ai)*\n",
        "\n",
        "---\n",
        "\n",
        "# Análise dos Dados do Airbnb de *Veneza* referente à Março/2023\n",
        "\n",
        "## Uma breve descrição sobre a cidade italiana de Veneza\n",
        "\n",
        "Veneza está localizada ao norte da Itália e é a capital da região de Vêneto. Ela foi construída sobre um arquipélago com 118 ilhas que se interligam através de pontes e canais. Sua beleza e charme atraí milhões de turistas todos os anos.\n",
        "\n",
        "_Saiba mais em: https://www.visitvenezia.eu/en#_\n",
        "\n",
        "\n",
        "\n",
        "## O Airbnb\n",
        "\n",
        "O [Airbnb](https://www.airbnb.com.br/) já é considerado como sendo a **maior empresa hoteleira da atualidade**. Ah, o detalhe é que ele **não possui nenhum hotel**!\n",
        "\n",
        "Conectando pessoas que querem viajar (e se hospedar) com anfitriões que querem alugar seus imóveis de maneira prática, o Airbnb fornece uma plataforma inovadora para tornar essa hospedagem alternativa.\n",
        "\n",
        "No final de 2018, a Startup fundada 10 anos atrás, já havia **hospedado mais de 300 milhões** de pessoas ao redor de todo o mundo, desafiando as redes hoteleiras tradicionais.\n",
        "\n",
        "Uma das iniciativas do Airbnb é disponibilizar dados do site, para algumas das principais cidades do mundo. Por meio do portal [Inside Airbnb](http://insideairbnb.com/get-the-data.html), é possível baixar uma grande quantidade de dados para desenvolver projetos e soluções de *Data Science*.\n",
        "\n",
        "<center><img alt=\"Analisando Airbnb\" width=\"10%\" src=\"https://www.area360.com.au/wp-content/uploads/2017/09/airbnb-logo.jpg\"></center>\n",
        "\n"
      ]
    },
    {
      "cell_type": "markdown",
      "metadata": {
        "id": "0zxQHhIUDF_2"
      },
      "source": [
        "## Obtenção dos Dados\n"
      ]
    },
    {
      "cell_type": "code",
      "execution_count": 19,
      "metadata": {
        "id": "Vhp2wMPgJ6zX"
      },
      "outputs": [],
      "source": [
        "# importar os pacotes necessarios\n",
        "import pandas as pd\n",
        "import matplotlib.pyplot as plt\n",
        "import seaborn as sns\n",
        "\n",
        "%matplotlib inline"
      ]
    },
    {
      "cell_type": "code",
      "execution_count": 20,
      "metadata": {
        "id": "tUmoAT8DLQ5T"
      },
      "outputs": [],
      "source": [
        "# importar o arquivo listings de Veneza para um DataFrame\n",
        "filename = \"https://raw.githubusercontent.com/ajcRodrigues/data-science/main/datasets/listings_Veniza-Italia_202303.csv\"\n",
        "df = pd.read_csv(filename, index_col=\"id\")"
      ]
    },
    {
      "cell_type": "markdown",
      "metadata": {
        "id": "qb5By2nIMS6m"
      },
      "source": [
        "## Análise dos Dados\n"
      ]
    },
    {
      "cell_type": "markdown",
      "metadata": {
        "id": "cfhk3wKl4cQ0"
      },
      "source": [
        "**Dicionário das variáveis**\n",
        "\n",
        "* `id` - identificador do imóvel\n",
        "* `name` - nome da propriedade anunciada\n",
        "* `host_id` - identificador do proprietário/anfitrião do imóvel\n",
        "* `host_name` - Nome do anfitrião\n",
        "* `neighbourhood_group` - distrito ou macro região que contém vários bairros\n",
        "* `neighbourhood` - nome do bairro\n",
        "* `latitude` - latitude da propriedade\n",
        "* `longitude` - longitude da propriedade\n",
        "* `room_type` - tipo de quarto oferecido\n",
        "* `price` - preço para alugar o imóvel\n",
        "* `minimum_nights` - quantidade mínima de noites para reservar\n",
        "* `number_of_reviews` - número de avaliações recebiddas pela propriedade\n",
        "* `last_review` - data do última avaliação\n",
        "* `reviews_per_month` - quantidade de avaliações por mês\n",
        "* `calculated_host_listings_count` - quantidade de imóveis do mesmo anfitrião\n",
        "* `availability_365` - disponibilidade dentro de 365 dias\n",
        "\n",
        "Antes de iniciar qualquer análise, vamos verificar a cara do nosso *dataset*, analisando as 5 primeiras entradas."
      ]
    },
    {
      "cell_type": "code",
      "execution_count": 21,
      "metadata": {
        "colab": {
          "base_uri": "https://localhost:8080/",
          "height": 545
        },
        "id": "2iS_dae7YQtO",
        "outputId": "b0ec0e5d-1ebe-4d2d-82aa-158a9832c5c7"
      },
      "outputs": [
        {
          "data": {
            "text/html": [
              "<div>\n",
              "<style scoped>\n",
              "    .dataframe tbody tr th:only-of-type {\n",
              "        vertical-align: middle;\n",
              "    }\n",
              "\n",
              "    .dataframe tbody tr th {\n",
              "        vertical-align: top;\n",
              "    }\n",
              "\n",
              "    .dataframe thead th {\n",
              "        text-align: right;\n",
              "    }\n",
              "</style>\n",
              "<table border=\"1\" class=\"dataframe\">\n",
              "  <thead>\n",
              "    <tr style=\"text-align: right;\">\n",
              "      <th></th>\n",
              "      <th>name</th>\n",
              "      <th>host_id</th>\n",
              "      <th>host_name</th>\n",
              "      <th>neighbourhood_group</th>\n",
              "      <th>neighbourhood</th>\n",
              "      <th>latitude</th>\n",
              "      <th>longitude</th>\n",
              "      <th>room_type</th>\n",
              "      <th>price</th>\n",
              "      <th>minimum_nights</th>\n",
              "      <th>number_of_reviews</th>\n",
              "      <th>last_review</th>\n",
              "      <th>reviews_per_month</th>\n",
              "      <th>calculated_host_listings_count</th>\n",
              "      <th>availability_365</th>\n",
              "      <th>number_of_reviews_ltm</th>\n",
              "      <th>license</th>\n",
              "    </tr>\n",
              "    <tr>\n",
              "      <th>id</th>\n",
              "      <th></th>\n",
              "      <th></th>\n",
              "      <th></th>\n",
              "      <th></th>\n",
              "      <th></th>\n",
              "      <th></th>\n",
              "      <th></th>\n",
              "      <th></th>\n",
              "      <th></th>\n",
              "      <th></th>\n",
              "      <th></th>\n",
              "      <th></th>\n",
              "      <th></th>\n",
              "      <th></th>\n",
              "      <th></th>\n",
              "      <th></th>\n",
              "      <th></th>\n",
              "    </tr>\n",
              "  </thead>\n",
              "  <tbody>\n",
              "    <tr>\n",
              "      <th>492901</th>\n",
              "      <td>a short walk from piazza san marco</td>\n",
              "      <td>6304868</td>\n",
              "      <td>Roberta</td>\n",
              "      <td>Isole</td>\n",
              "      <td>Castello</td>\n",
              "      <td>45.43480</td>\n",
              "      <td>12.34661</td>\n",
              "      <td>Entire home/apt</td>\n",
              "      <td>450</td>\n",
              "      <td>7</td>\n",
              "      <td>18</td>\n",
              "      <td>2021-09-14</td>\n",
              "      <td>0.14</td>\n",
              "      <td>6</td>\n",
              "      <td>365</td>\n",
              "      <td>0</td>\n",
              "      <td>NaN</td>\n",
              "    </tr>\n",
              "    <tr>\n",
              "      <th>493041</th>\n",
              "      <td>APARTMENT FOR 2 PERSONS DECO</td>\n",
              "      <td>2426720</td>\n",
              "      <td>Lorenzo</td>\n",
              "      <td>Isole</td>\n",
              "      <td>San Marco</td>\n",
              "      <td>45.43388</td>\n",
              "      <td>12.33485</td>\n",
              "      <td>Entire home/apt</td>\n",
              "      <td>132</td>\n",
              "      <td>3</td>\n",
              "      <td>22</td>\n",
              "      <td>2022-10-17</td>\n",
              "      <td>0.17</td>\n",
              "      <td>5</td>\n",
              "      <td>225</td>\n",
              "      <td>2</td>\n",
              "      <td>NaN</td>\n",
              "    </tr>\n",
              "    <tr>\n",
              "      <th>145324</th>\n",
              "      <td>Double room with a View of the city</td>\n",
              "      <td>703872</td>\n",
              "      <td>Leonardo E Irene</td>\n",
              "      <td>Isole</td>\n",
              "      <td>Cannaregio</td>\n",
              "      <td>45.44285</td>\n",
              "      <td>12.34019</td>\n",
              "      <td>Private room</td>\n",
              "      <td>68</td>\n",
              "      <td>1</td>\n",
              "      <td>434</td>\n",
              "      <td>2023-01-02</td>\n",
              "      <td>3.06</td>\n",
              "      <td>6</td>\n",
              "      <td>105</td>\n",
              "      <td>14</td>\n",
              "      <td>NaN</td>\n",
              "    </tr>\n",
              "    <tr>\n",
              "      <th>6623</th>\n",
              "      <td>Venice Blue on Canal apartment</td>\n",
              "      <td>15016</td>\n",
              "      <td>Francesca</td>\n",
              "      <td>Isole</td>\n",
              "      <td>San Polo</td>\n",
              "      <td>45.43817</td>\n",
              "      <td>12.32739</td>\n",
              "      <td>Entire home/apt</td>\n",
              "      <td>260</td>\n",
              "      <td>5</td>\n",
              "      <td>179</td>\n",
              "      <td>2022-12-31</td>\n",
              "      <td>1.10</td>\n",
              "      <td>3</td>\n",
              "      <td>259</td>\n",
              "      <td>16</td>\n",
              "      <td>NaN</td>\n",
              "    </tr>\n",
              "    <tr>\n",
              "      <th>6624</th>\n",
              "      <td>Venice garden charme and canal view!</td>\n",
              "      <td>15016</td>\n",
              "      <td>Francesca</td>\n",
              "      <td>Isole</td>\n",
              "      <td>Santa Croce</td>\n",
              "      <td>45.43977</td>\n",
              "      <td>12.32736</td>\n",
              "      <td>Entire home/apt</td>\n",
              "      <td>330</td>\n",
              "      <td>4</td>\n",
              "      <td>80</td>\n",
              "      <td>2022-10-13</td>\n",
              "      <td>0.57</td>\n",
              "      <td>3</td>\n",
              "      <td>302</td>\n",
              "      <td>15</td>\n",
              "      <td>NaN</td>\n",
              "    </tr>\n",
              "  </tbody>\n",
              "</table>\n",
              "</div>"
            ],
            "text/plain": [
              "                                        name  host_id         host_name  \\\n",
              "id                                                                        \n",
              "492901    a short walk from piazza san marco  6304868           Roberta   \n",
              "493041          APARTMENT FOR 2 PERSONS DECO  2426720           Lorenzo   \n",
              "145324   Double room with a View of the city   703872  Leonardo E Irene   \n",
              "6623          Venice Blue on Canal apartment    15016         Francesca   \n",
              "6624    Venice garden charme and canal view!    15016         Francesca   \n",
              "\n",
              "       neighbourhood_group neighbourhood  latitude  longitude  \\\n",
              "id                                                              \n",
              "492901               Isole      Castello  45.43480   12.34661   \n",
              "493041               Isole     San Marco  45.43388   12.33485   \n",
              "145324               Isole    Cannaregio  45.44285   12.34019   \n",
              "6623                 Isole      San Polo  45.43817   12.32739   \n",
              "6624                 Isole   Santa Croce  45.43977   12.32736   \n",
              "\n",
              "              room_type  price  minimum_nights  number_of_reviews last_review  \\\n",
              "id                                                                              \n",
              "492901  Entire home/apt    450               7                 18  2021-09-14   \n",
              "493041  Entire home/apt    132               3                 22  2022-10-17   \n",
              "145324     Private room     68               1                434  2023-01-02   \n",
              "6623    Entire home/apt    260               5                179  2022-12-31   \n",
              "6624    Entire home/apt    330               4                 80  2022-10-13   \n",
              "\n",
              "        reviews_per_month  calculated_host_listings_count  availability_365  \\\n",
              "id                                                                            \n",
              "492901               0.14                               6               365   \n",
              "493041               0.17                               5               225   \n",
              "145324               3.06                               6               105   \n",
              "6623                 1.10                               3               259   \n",
              "6624                 0.57                               3               302   \n",
              "\n",
              "        number_of_reviews_ltm license  \n",
              "id                                     \n",
              "492901                      0     NaN  \n",
              "493041                      2     NaN  \n",
              "145324                     14     NaN  \n",
              "6623                       16     NaN  \n",
              "6624                       15     NaN  "
            ]
          },
          "execution_count": 21,
          "metadata": {},
          "output_type": "execute_result"
        }
      ],
      "source": [
        "# mostrar as 5 primeiras entradas\n",
        "df.head(5)"
      ]
    },
    {
      "cell_type": "code",
      "execution_count": 22,
      "metadata": {
        "id": "5BYDl8Zvvmld"
      },
      "outputs": [],
      "source": [
        "# df.tail(5)\n",
        "# df.value_counts(\"neighbourhood_group\")\n"
      ]
    },
    {
      "cell_type": "markdown",
      "metadata": {
        "id": "6-B_qtEaYEd-"
      },
      "source": [
        "### **Q1. Quantos atributos (variáveis) e quantas entradas o nosso conjunto de dados possui? Quais os tipos das variáveis?**"
      ]
    },
    {
      "cell_type": "code",
      "execution_count": 23,
      "metadata": {
        "colab": {
          "base_uri": "https://localhost:8080/"
        },
        "id": "TFRK0tniLV-G",
        "outputId": "7136b806-3445-4e74-8389-a44794b00eca"
      },
      "outputs": [
        {
          "name": "stdout",
          "output_type": "stream",
          "text": [
            "<class 'pandas.core.frame.DataFrame'>\n",
            "Int64Index: 7286 entries, 492901 to 841761973514965343\n",
            "Data columns (total 17 columns):\n",
            " #   Column                          Non-Null Count  Dtype  \n",
            "---  ------                          --------------  -----  \n",
            " 0   name                            7285 non-null   object \n",
            " 1   host_id                         7286 non-null   int64  \n",
            " 2   host_name                       7286 non-null   object \n",
            " 3   neighbourhood_group             7286 non-null   object \n",
            " 4   neighbourhood                   7286 non-null   object \n",
            " 5   latitude                        7286 non-null   float64\n",
            " 6   longitude                       7286 non-null   float64\n",
            " 7   room_type                       7286 non-null   object \n",
            " 8   price                           7286 non-null   int64  \n",
            " 9   minimum_nights                  7286 non-null   int64  \n",
            " 10  number_of_reviews               7286 non-null   int64  \n",
            " 11  last_review                     6586 non-null   object \n",
            " 12  reviews_per_month               6586 non-null   float64\n",
            " 13  calculated_host_listings_count  7286 non-null   int64  \n",
            " 14  availability_365                7286 non-null   int64  \n",
            " 15  number_of_reviews_ltm           7286 non-null   int64  \n",
            " 16  license                         1854 non-null   object \n",
            "dtypes: float64(3), int64(7), object(7)\n",
            "memory usage: 1.0+ MB\n",
            "\n",
            "Entradas: 7286 \n",
            "Valores: 17\n"
          ]
        }
      ],
      "source": [
        "# identificar o volume de dados do DataFrame\n",
        "df.info()\n",
        "print(f\"\\nEntradas: {df.shape[0]} \\nValores: {df.shape[1]}\")\n"
      ]
    },
    {
      "cell_type": "markdown",
      "metadata": {
        "id": "yz1urSUGW9iE"
      },
      "source": [
        "### **Q2. Qual a porcentagem de valores ausentes no *dataset*?**"
      ]
    },
    {
      "cell_type": "code",
      "execution_count": 24,
      "metadata": {
        "colab": {
          "base_uri": "https://localhost:8080/"
        },
        "id": "plk2FjbCXOqP",
        "outputId": "1710f35a-e56b-4156-89c5-08b7b89a0c95"
      },
      "outputs": [
        {
          "data": {
            "text/plain": [
              "license                           319.529412\n",
              "last_review                        41.176471\n",
              "reviews_per_month                  41.176471\n",
              "name                                0.058824\n",
              "neighbourhood                       0.000000\n",
              "latitude                            0.000000\n",
              "longitude                           0.000000\n",
              "room_type                           0.000000\n",
              "host_id                             0.000000\n",
              "minimum_nights                      0.000000\n",
              "number_of_reviews                   0.000000\n",
              "neighbourhood_group                 0.000000\n",
              "host_name                           0.000000\n",
              "calculated_host_listings_count      0.000000\n",
              "availability_365                    0.000000\n",
              "number_of_reviews_ltm               0.000000\n",
              "price                               0.000000\n",
              "dtype: float64"
            ]
          },
          "execution_count": 24,
          "metadata": {},
          "output_type": "execute_result"
        }
      ],
      "source": [
        "# ordenar em ordem decrescente as variáveis por seus valores ausentes\n",
        "(df.isnull().sum() / df.shape[1]).sort_values(ascending=False)"
      ]
    },
    {
      "cell_type": "markdown",
      "metadata": {
        "id": "iHXvvHIxaoNc"
      },
      "source": [
        "### **Q3. Qual o tipo de distribuição das variáveis?** "
      ]
    },
    {
      "cell_type": "code",
      "execution_count": 25,
      "metadata": {
        "colab": {
          "base_uri": "https://localhost:8080/",
          "height": 607
        },
        "id": "31ub7LeA_GXE",
        "outputId": "74a1ff43-f311-4004-db66-cab00f165698"
      },
      "outputs": [
        {
          "data": {
            "image/png": "[encoded data removed]",
            "text/plain": [
              "<Figure size 1500x1000 with 12 Axes>"
            ]
          },
          "metadata": {},
          "output_type": "display_data"
        }
      ],
      "source": [
        "# plotar o histograma das variáveis numéricas\n",
        "df.hist(bins=15, figsize=(15,10));"
      ]
    },
    {
      "cell_type": "markdown",
      "metadata": {
        "id": "7x4aw1j5wNmn"
      },
      "source": [
        "### **Q4. Qual a média dos preços de aluguel?**"
      ]
    },
    {
      "cell_type": "code",
      "execution_count": 26,
      "metadata": {
        "colab": {
          "base_uri": "https://localhost:8080/",
          "height": 211
        },
        "id": "ff-8gUahLk-C",
        "outputId": "7358dba1-d31a-49f1-9b62-334eccc4c881"
      },
      "outputs": [
        {
          "data": {
            "image/png": "[encoded data removed]",
            "text/plain": [
              "<Figure size 1500x300 with 1 Axes>"
            ]
          },
          "metadata": {},
          "output_type": "display_data"
        }
      ],
      "source": [
        "# ver a média da coluna `price``\n",
        "df.price.plot(kind='box', vert=False, figsize=(15, 3),)\n",
        "plt.show()"
      ]
    },
    {
      "cell_type": "code",
      "execution_count": 27,
      "metadata": {
        "colab": {
          "base_uri": "https://localhost:8080/"
        },
        "id": "W4u0iVFjEpfN",
        "outputId": "a0a39b41-80ae-41ae-b673-1e6151b4b877"
      },
      "outputs": [
        {
          "name": "stdout",
          "output_type": "stream",
          "text": [
            "A média dos preços é US$ 211.33 com um desvio padrão de US$ 1595.62.\n"
          ]
        }
      ],
      "source": [
        "print(f\"A média dos preços é US$ {round(df.price.mean(), 2)} com um desvio padrão de US$ {round(df.price.std(), 2)}.\")"
      ]
    },
    {
      "cell_type": "markdown",
      "metadata": {
        "id": "JvJccAq2ZK24"
      },
      "source": [
        "Os outliers interferem a média e ofuscam os valores de interesse. Se recortarmos os dados em margens de valores, podemos ter um percepção melhor dos valores sem que precisemos remover os outliers."
      ]
    },
    {
      "cell_type": "code",
      "execution_count": 28,
      "metadata": {
        "colab": {
          "base_uri": "https://localhost:8080/"
        },
        "id": "NfvmqvqI619Y",
        "outputId": "0c4d0473-30f9-467d-be4c-00c59fccb600"
      },
      "outputs": [
        {
          "data": {
            "text/plain": [
              "count     7286.000000\n",
              "mean       211.325419\n",
              "std       1595.620538\n",
              "min          0.000000\n",
              "25%         94.250000\n",
              "50%        132.000000\n",
              "75%        193.000000\n",
              "max      99000.000000\n",
              "Name: price, dtype: float64"
            ]
          },
          "execution_count": 28,
          "metadata": {},
          "output_type": "execute_result"
        }
      ],
      "source": [
        "# df.describe()\n",
        "df.price.describe()"
      ]
    },
    {
      "cell_type": "code",
      "execution_count": 29,
      "metadata": {
        "colab": {
          "base_uri": "https://localhost:8080/"
        },
        "id": "C06FBlmfaDKb",
        "outputId": "f1ca6dc8-bdbc-417e-bd7b-b8b1f763a9fb"
      },
      "outputs": [
        {
          "name": "stdout",
          "output_type": "stream",
          "text": [
            "                 ocorrencias  medias (US$)  valores (%)\n",
            "margens                                                \n",
            "(0, 500]                7020    148.897009     0.963492\n",
            "(500, 1000]              192    736.781250     0.026352\n",
            "(1000, 1500]              27   1212.185185     0.003706\n",
            "(1500, 2000]              15   1745.200000     0.002059\n",
            "(2000, 2500]               7   2200.000000     0.000961\n",
            "(2500, 3000]              11   2865.454545     0.001510\n",
            "(3000, 3500]               0           NaN     0.000000\n",
            "(3500, 4000]               4   3896.750000     0.000549\n",
            "(4000, 15000]              5   8494.200000     0.000686\n",
            "(15000, 100000]            2  94556.500000     0.000274\n",
            "\n",
            "Com o recorte, percebemos qual a ocorrência de valores para um dada margem de preços \n",
            "e ele deixa claro que 96% dos imóveis tem valor de aluguel abaixo de US$ 500,00. Para estes locais,\n",
            "o valor médio é US$ 148,00. \n"
          ]
        }
      ],
      "source": [
        "# Constroi as valores das margens tendo como base os valores dos quartis\n",
        "bins = [i for i in range(0, 4000, 500)]\n",
        "bins += [4000, 15000, 100000]\n",
        "\n",
        "\n",
        "# Faz o recorte\n",
        "df[\"margens\"] = pd.cut(df.price, bins=bins)\n",
        "\n",
        "\n",
        "# Controi um novo dataframe para armazenar os valores do recorte\n",
        "df_grouped = pd.DataFrame({})\n",
        "df_grouped[\"ocorrencias\"] = df.groupby(\"margens\").price.count()\n",
        "df_grouped[\"medias (US$)\"] = df.groupby(\"margens\").price.mean()\n",
        "df_grouped[\"valores (%)\"] = df_grouped[\"ocorrencias\"] / df.price.count()\n",
        "\n",
        "\n",
        "print(df_grouped)\n",
        "\n",
        "msg = \"\"\"Com o recorte, percebemos qual a ocorrência de valores para um dada margem de preços \n",
        "e ele deixa claro que 96% dos imóveis tem valor de aluguel abaixo de US$ 500,00. Para estes locais,\n",
        "o valor médio é US$ 148,00. \"\"\"\n",
        "print(f\"\\n{msg}\")"
      ]
    },
    {
      "cell_type": "code",
      "execution_count": 30,
      "metadata": {
        "id": "X0fvRNOraN24"
      },
      "outputs": [],
      "source": [
        "# Poderíamos usar o método qcut do Pandas para recortar os dados de acordo com os percentis. Porém, os outliers ainda interferão no resultado\n",
        "# print(pd.qcut(df.price, q=10).value_counts())"
      ]
    },
    {
      "cell_type": "markdown",
      "metadata": {
        "id": "IXn2oIo5qx-w"
      },
      "source": [
        "### **Q4. Qual a correlação existente entre as variáveis**"
      ]
    },
    {
      "cell_type": "code",
      "execution_count": 31,
      "metadata": {
        "colab": {
          "base_uri": "https://localhost:8080/",
          "height": 238
        },
        "id": "x2ayzBajqxyd",
        "outputId": "b1211a7f-4dd0-439c-fad7-92e28b7215cc"
      },
      "outputs": [
        {
          "data": {
            "text/html": [
              "<div>\n",
              "<style scoped>\n",
              "    .dataframe tbody tr th:only-of-type {\n",
              "        vertical-align: middle;\n",
              "    }\n",
              "\n",
              "    .dataframe tbody tr th {\n",
              "        vertical-align: top;\n",
              "    }\n",
              "\n",
              "    .dataframe thead th {\n",
              "        text-align: right;\n",
              "    }\n",
              "</style>\n",
              "<table border=\"1\" class=\"dataframe\">\n",
              "  <thead>\n",
              "    <tr style=\"text-align: right;\">\n",
              "      <th></th>\n",
              "      <th>price</th>\n",
              "      <th>minimum_nights</th>\n",
              "      <th>number_of_reviews</th>\n",
              "      <th>reviews_per_month</th>\n",
              "      <th>calculated_host_listings_count</th>\n",
              "      <th>availability_365</th>\n",
              "    </tr>\n",
              "  </thead>\n",
              "  <tbody>\n",
              "    <tr>\n",
              "      <th>price</th>\n",
              "      <td>1.000000</td>\n",
              "      <td>0.002068</td>\n",
              "      <td>-0.031791</td>\n",
              "      <td>-0.035718</td>\n",
              "      <td>0.017376</td>\n",
              "      <td>0.002345</td>\n",
              "    </tr>\n",
              "    <tr>\n",
              "      <th>minimum_nights</th>\n",
              "      <td>0.002068</td>\n",
              "      <td>1.000000</td>\n",
              "      <td>-0.016210</td>\n",
              "      <td>-0.025663</td>\n",
              "      <td>-0.029061</td>\n",
              "      <td>-0.000215</td>\n",
              "    </tr>\n",
              "    <tr>\n",
              "      <th>number_of_reviews</th>\n",
              "      <td>-0.031791</td>\n",
              "      <td>-0.016210</td>\n",
              "      <td>1.000000</td>\n",
              "      <td>0.638073</td>\n",
              "      <td>-0.158014</td>\n",
              "      <td>-0.042350</td>\n",
              "    </tr>\n",
              "    <tr>\n",
              "      <th>reviews_per_month</th>\n",
              "      <td>-0.035718</td>\n",
              "      <td>-0.025663</td>\n",
              "      <td>0.638073</td>\n",
              "      <td>1.000000</td>\n",
              "      <td>-0.139958</td>\n",
              "      <td>0.015774</td>\n",
              "    </tr>\n",
              "    <tr>\n",
              "      <th>calculated_host_listings_count</th>\n",
              "      <td>0.017376</td>\n",
              "      <td>-0.029061</td>\n",
              "      <td>-0.158014</td>\n",
              "      <td>-0.139958</td>\n",
              "      <td>1.000000</td>\n",
              "      <td>0.200809</td>\n",
              "    </tr>\n",
              "    <tr>\n",
              "      <th>availability_365</th>\n",
              "      <td>0.002345</td>\n",
              "      <td>-0.000215</td>\n",
              "      <td>-0.042350</td>\n",
              "      <td>0.015774</td>\n",
              "      <td>0.200809</td>\n",
              "      <td>1.000000</td>\n",
              "    </tr>\n",
              "  </tbody>\n",
              "</table>\n",
              "</div>"
            ],
            "text/plain": [
              "                                   price  minimum_nights  number_of_reviews  \\\n",
              "price                           1.000000        0.002068          -0.031791   \n",
              "minimum_nights                  0.002068        1.000000          -0.016210   \n",
              "number_of_reviews              -0.031791       -0.016210           1.000000   \n",
              "reviews_per_month              -0.035718       -0.025663           0.638073   \n",
              "calculated_host_listings_count  0.017376       -0.029061          -0.158014   \n",
              "availability_365                0.002345       -0.000215          -0.042350   \n",
              "\n",
              "                                reviews_per_month  \\\n",
              "price                                   -0.035718   \n",
              "minimum_nights                          -0.025663   \n",
              "number_of_reviews                        0.638073   \n",
              "reviews_per_month                        1.000000   \n",
              "calculated_host_listings_count          -0.139958   \n",
              "availability_365                         0.015774   \n",
              "\n",
              "                                calculated_host_listings_count  \\\n",
              "price                                                 0.017376   \n",
              "minimum_nights                                       -0.029061   \n",
              "number_of_reviews                                    -0.158014   \n",
              "reviews_per_month                                    -0.139958   \n",
              "calculated_host_listings_count                        1.000000   \n",
              "availability_365                                      0.200809   \n",
              "\n",
              "                                availability_365  \n",
              "price                                   0.002345  \n",
              "minimum_nights                         -0.000215  \n",
              "number_of_reviews                      -0.042350  \n",
              "reviews_per_month                       0.015774  \n",
              "calculated_host_listings_count          0.200809  \n",
              "availability_365                        1.000000  "
            ]
          },
          "metadata": {},
          "output_type": "display_data"
        }
      ],
      "source": [
        "# criar uma matriz de correlação\n",
        "corr = df[['price', 'minimum_nights', 'number_of_reviews', 'reviews_per_month',\n",
        "    'calculated_host_listings_count', 'availability_365']].corr()\n",
        "\n",
        "# mostrar a matriz de correlação\n",
        "display(corr)"
      ]
    },
    {
      "cell_type": "code",
      "execution_count": 32,
      "metadata": {
        "colab": {
          "base_uri": "https://localhost:8080/",
          "height": 411
        },
        "id": "91UujDr6ueqE",
        "outputId": "6d6454af-680d-43d4-86a9-ed5904f77c0d"
      },
      "outputs": [
        {
          "data": {
            "image/png": "[encoded data removed]",
            "text/plain": [
              "<Figure size 640x480 with 2 Axes>"
            ]
          },
          "metadata": {},
          "output_type": "display_data"
        }
      ],
      "source": [
        "# plotar um heatmap a partir das correlações\n",
        "sns.heatmap(corr, cmap='RdBu', fmt='.2f', square=True, linecolor='white', annot=True);"
      ]
    },
    {
      "cell_type": "markdown",
      "metadata": {
        "id": "7b6RMWpuHKN-"
      },
      "source": [
        "### **Q5. Qual o tipo de imóvel mais alugado no Airbnb?**"
      ]
    },
    {
      "cell_type": "code",
      "execution_count": 33,
      "metadata": {
        "colab": {
          "base_uri": "https://localhost:8080/"
        },
        "id": "_5mVSZCedf6R",
        "outputId": "b7aa03ce-02dd-4bfd-fe74-4a84a32c5c95"
      },
      "outputs": [
        {
          "data": {
            "text/plain": [
              "Entire home/apt    5672\n",
              "Private room       1425\n",
              "Hotel room          164\n",
              "Shared room          25\n",
              "Name: room_type, dtype: int64"
            ]
          },
          "execution_count": 33,
          "metadata": {},
          "output_type": "execute_result"
        }
      ],
      "source": [
        "# mostrar a quantidade de cada tipo de imóvel disponível\n",
        "df.room_type.value_counts()"
      ]
    },
    {
      "cell_type": "code",
      "execution_count": 34,
      "metadata": {
        "colab": {
          "base_uri": "https://localhost:8080/"
        },
        "id": "EvwoO-XAHhIm",
        "outputId": "c5709fad-dd98-44cf-d407-64d6decde47f"
      },
      "outputs": [
        {
          "data": {
            "text/plain": [
              "Entire home/apt    0.778479\n",
              "Private room       0.195581\n",
              "Hotel room         0.022509\n",
              "Shared room        0.003431\n",
              "Name: room_type, dtype: float64"
            ]
          },
          "execution_count": 34,
          "metadata": {},
          "output_type": "execute_result"
        }
      ],
      "source": [
        "# mostrar a porcentagem de cada tipo de imóvel disponível\n",
        "df.room_type.value_counts() / df.shape[0]"
      ]
    },
    {
      "cell_type": "markdown",
      "metadata": {
        "id": "MFa5NbnLJMcd"
      },
      "source": [
        "### **Q6. Qual a localidade mais cara do dataset?**\n",
        "\n"
      ]
    },
    {
      "cell_type": "code",
      "execution_count": 35,
      "metadata": {
        "colab": {
          "base_uri": "https://localhost:8080/"
        },
        "id": "MD_xa143JZpi",
        "outputId": "c3910f33-58f5-4397-d579-1e05f63552b9"
      },
      "outputs": [
        {
          "data": {
            "text/plain": [
              "neighbourhood\n",
              "Lido                 467.515625\n",
              "Castello             264.986842\n",
              "Torcello             250.000000\n",
              "Giudecca             249.177419\n",
              "San Marco            241.974710\n",
              "Marghera             227.432203\n",
              "Tronchetto           226.000000\n",
              "Dorsoduro            216.827458\n",
              "Isola San Giorgio    200.000000\n",
              "Santa Croce          199.956124\n",
              "Name: price, dtype: float64"
            ]
          },
          "execution_count": 35,
          "metadata": {},
          "output_type": "execute_result"
        }
      ],
      "source": [
        "# ver preços por bairros, na média\n",
        "df.groupby(['neighbourhood']).price.mean().sort_values(ascending=False)[:10]"
      ]
    },
    {
      "cell_type": "code",
      "execution_count": 36,
      "metadata": {
        "colab": {
          "base_uri": "https://localhost:8080/",
          "height": 476
        },
        "id": "uiuxkZ6reKvU",
        "outputId": "9569a53c-f585-4511-895a-abff4250cb20"
      },
      "outputs": [
        {
          "ename": "NameError",
          "evalue": "name 'df2' is not defined",
          "output_type": "error",
          "traceback": [
            "\u001b[0;31m---------------------------------------------------------------------------\u001b[0m",
            "\u001b[0;31mNameError\u001b[0m                                 Traceback (most recent call last)",
            "Cell \u001b[0;32mIn[36], line 2\u001b[0m\n\u001b[1;32m      1\u001b[0m \u001b[39m# plotar os imóveis pela latitude-longitude\u001b[39;00m\n\u001b[0;32m----> 2\u001b[0m df\u001b[39m.\u001b[39mplot(kind\u001b[39m=\u001b[39m\u001b[39m\"\u001b[39m\u001b[39mscatter\u001b[39m\u001b[39m\"\u001b[39m, x\u001b[39m=\u001b[39m\u001b[39m'\u001b[39m\u001b[39mlongitude\u001b[39m\u001b[39m'\u001b[39m, y\u001b[39m=\u001b[39m\u001b[39m'\u001b[39m\u001b[39mlatitude\u001b[39m\u001b[39m'\u001b[39m, alpha\u001b[39m=\u001b[39m\u001b[39m0.4\u001b[39m, c\u001b[39m=\u001b[39mdf2[\u001b[39m'\u001b[39m\u001b[39mprice\u001b[39m\u001b[39m'\u001b[39m], s\u001b[39m=\u001b[39m\u001b[39m8\u001b[39m,\n\u001b[1;32m      3\u001b[0m               cmap\u001b[39m=\u001b[39mplt\u001b[39m.\u001b[39mget_cmap(\u001b[39m'\u001b[39m\u001b[39mjet\u001b[39m\u001b[39m'\u001b[39m), figsize\u001b[39m=\u001b[39m(\u001b[39m12\u001b[39m,\u001b[39m8\u001b[39m));\n",
            "\u001b[0;31mNameError\u001b[0m: name 'df2' is not defined"
          ]
        }
      ],
      "source": [
        "# plotar os imóveis pela latitude-longitude\n",
        "df.plot(kind=\"scatter\", x='longitude', y='latitude', alpha=0.4, c=df2['price'], s=8,\n",
        "              cmap=plt.get_cmap('jet'), figsize=(12,8));"
      ]
    },
    {
      "cell_type": "markdown",
      "metadata": {
        "id": "-hbsFJAJBBKw"
      },
      "source": [
        "#### Avaliação desconsiderando os _outliers_"
      ]
    },
    {
      "cell_type": "code",
      "execution_count": null,
      "metadata": {
        "id": "0MmSdxUQBW6i"
      },
      "outputs": [],
      "source": [
        "df2 = df.loc[df.price < 5000]"
      ]
    },
    {
      "cell_type": "code",
      "execution_count": null,
      "metadata": {
        "colab": {
          "base_uri": "https://localhost:8080/",
          "height": 211
        },
        "id": "UncTPUwI_m8A",
        "outputId": "cf8fdddb-d49e-4a49-c7af-b35051eac8ef"
      },
      "outputs": [],
      "source": [
        "df2.price.plot(kind='box', vert=False, figsize=(15, 3),)\n",
        "plt.show()"
      ]
    },
    {
      "cell_type": "code",
      "execution_count": null,
      "metadata": {
        "colab": {
          "base_uri": "https://localhost:8080/"
        },
        "id": "gx889pl_BeDy",
        "outputId": "2ceb16d0-94f8-4aa7-e274-838eed75cc8c"
      },
      "outputs": [],
      "source": [
        "df2.price.describe()"
      ]
    },
    {
      "cell_type": "code",
      "execution_count": null,
      "metadata": {
        "colab": {
          "base_uri": "https://localhost:8080/"
        },
        "id": "bLruKc3AB1Xc",
        "outputId": "5ae64808-27a8-4ede-ae06-7084bd5b309b"
      },
      "outputs": [],
      "source": [
        "print(f\"Desconsirando os outliers, a média dos preços é US$ {round(df2.price.mean(), 2)} com um desvio padrão de US$ {round(df2.price.std(), 2)}.\")"
      ]
    },
    {
      "cell_type": "markdown",
      "metadata": {
        "id": "vTneAMRUYvr1"
      },
      "source": [
        "### **Q7. Qual é a média do mínimo de noites para aluguel (minimum_nights)?**"
      ]
    },
    {
      "cell_type": "code",
      "execution_count": null,
      "metadata": {
        "colab": {
          "base_uri": "https://localhost:8080/"
        },
        "id": "_VzNhrEgY82N",
        "outputId": "eeb32a07-1996-44f7-e954-580b760ea2b0"
      },
      "outputs": [],
      "source": [
        "# ver a média da coluna `minimum_nights``\n",
        "print(f\"A média do mínimo de noite são {round(df.minimum_nights.mean(), 2)} dias\")"
      ]
    },
    {
      "cell_type": "markdown",
      "metadata": {
        "id": "GkvAg623RjoR"
      },
      "source": [
        "## Conclusões\n"
      ]
    },
    {
      "cell_type": "markdown",
      "metadata": {
        "id": "rbZ3Hsy9Ypw8"
      },
      "source": [
        "Neste estudo foi avaliado os dados de hospedagem do Airbnd para a cidade de Veneza - Itália em Março de 2023.\n",
        "\n",
        "Durante a primeira parte da avaliação, foi identificado alguns valores que destoavam dos demais. Logo, uma verificação mais minuciosa faz-se necessária e apontou alguns _outliers_. De um total de 7286 registros, 96% dos imóveis possui valor de hospedagem de até US\\$ 500,00 e menos de 0.5% deles possui valor maior que US\\$ 3000,00. Considerando os _outliers_, o valor médio de hospedagem é US\\$ 211,3 com um desvio padrão de US$ 1595,62. Ao desconsiderarmos os _outliers_, o valor médio caiu para US\\$ 179.71 com um desvio padrão de US\\$ 219.77.\n",
        "\n",
        "Portanto, uma avaliação minuciosa para identificar e remover valores destoantes contribuem para a clareza da análise e mais acertividade dos _insights_ levantados."
      ]
    },
    {
      "attachments": {},
      "cell_type": "markdown",
      "metadata": {},
      "source": [
        "## Dependências\n",
        "\n",
        "Para executar este notebook, instale as seguintes bibliotecas em seu ambiente:\n",
        "\n",
        "\n",
        "```shell\n",
        "pip3 install pandas==1.5.3 matplotlib==3.7.1 seaborn==0.12.2\n",
        "```"
      ]
    }
  ],
  "metadata": {
    "colab": {
      "collapsed_sections": [
        "kLI0gJtzDGuQ",
        "0zxQHhIUDF_2",
        "vTneAMRUYvr1"
      ],
      "provenance": [],
      "toc_visible": true
    },
    "kernelspec": {
      "display_name": "Python 3",
      "name": "python3"
    },
    "language_info": {
      "codemirror_mode": {
        "name": "ipython",
        "version": 3
      },
      "file_extension": ".py",
      "mimetype": "text/x-python",
      "name": "python",
      "nbconvert_exporter": "python",
      "pygments_lexer": "ipython3",
      "version": "3.9.16"
    }
  },
  "nbformat": 4,
  "nbformat_minor": 0
}
